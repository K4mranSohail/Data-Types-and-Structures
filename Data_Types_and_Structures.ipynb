{
  "nbformat": 4,
  "nbformat_minor": 0,
  "metadata": {
    "colab": {
      "provenance": []
    },
    "kernelspec": {
      "name": "python3",
      "display_name": "Python 3"
    },
    "language_info": {
      "name": "python"
    }
  },
  "cells": [
    {
      "cell_type": "markdown",
      "source": [
        "# Data Types and Structures Questions\n"
      ],
      "metadata": {
        "id": "pl_Ab8cS7sKH"
      }
    },
    {
      "cell_type": "markdown",
      "source": [
        "Q1. What are data structures, and why are they important?\n",
        "  - A data structure is a way of organizing, storing, and managing data to enable efficient access and modification,\n",
        "  Data structures are important because they optimize data storage, retrieval, and manipulation, improving algorithm efficiency, memory usage, and scalability in software development.\n",
        "\n",
        "\n",
        "\n",
        "\n",
        "\n",
        "\n",
        "\n"
      ],
      "metadata": {
        "id": "mIEzCZhDdBQ9"
      }
    },
    {
      "cell_type": "markdown",
      "source": [
        "Q2. Explain the difference between mutable and immutable data types with\n",
        "  examples.\n",
        "\n",
        " - Mutable data types, such as lists and dictionaries, allow modifications after creation, whereas immutable data types, like strings and tuples, cannot be changed once assigned, requiring the creation of a new object for any modification."
      ],
      "metadata": {
        "id": "O_zRNbBidpiP"
      }
    },
    {
      "cell_type": "markdown",
      "source": [
        "Q3. What are the main differences between lists and tuples in Python?\n",
        "\n",
        "  - Lists in Python are mutable, allowing modifications after creation, whereas tuples are immutable, meaning their values cannot be changed once assigned; additionally, lists have higher memory usage and slower performance compared to tuples, which are more memory-efficient and faster due to their fixed nature."
      ],
      "metadata": {
        "id": "6wnQN7jseHLo"
      }
    },
    {
      "cell_type": "markdown",
      "source": [
        "Q4. Describe how dictionaries store data?\n",
        "\n",
        "  - Dictionaries in Python store data as key-value pairs using a hash table internally, where each key is hashed to determine its unique memory location, allowing for fast retrieval, insertion, and deletion operations with an average time complexity of O(1)."
      ],
      "metadata": {
        "id": "KuVn8N4KeUMd"
      }
    },
    {
      "cell_type": "markdown",
      "source": [
        "Q5. Why might you use a set instead of a list in Python?\n",
        "\n",
        "  - We might use a set instead of a list in Python when we need to store unique elements and perform fast membership checks because sets eliminate duplicates automatically and provide average O(1) time complexity for lookups, while lists require O(n) time for the same operation."
      ],
      "metadata": {
        "id": "EpiSNX3IefnG"
      }
    },
    {
      "cell_type": "markdown",
      "source": [
        "Q6. What is a string in Python, and how is it different from a list?\n",
        "\n",
        "  - A string in Python is an immutable sequence of characters used to represent text, whereas a list is a mutable sequence that can store elements of different data types. Unlike lists, strings cannot be modified after creation, and any change requires creating a new string."
      ],
      "metadata": {
        "id": "D63QG6kYey4v"
      }
    },
    {
      "cell_type": "markdown",
      "source": [
        "Q7. How do tuples ensure data integrity in Python?\n",
        "\n",
        "  - Tuples ensure data integrity in Python by being immutable, meaning their values cannot be modified, added, or removed after creation, preventing accidental changes and ensuring data remains consistent throughout the program."
      ],
      "metadata": {
        "id": "H2I2ZijIe92a"
      }
    },
    {
      "cell_type": "markdown",
      "source": [
        "Q8. What is a hash table, and how does it relate to dictionaries in Python?\n",
        "\n",
        "  - A hash table is a data structure that stores key-value pairs using a hashing function to map keys to unique memory locations, enabling fast lookups, insertions, and deletions. In Python 3, dictionaries (dict) are implemented using a hash table, allowing average O(1) time complexity for key-based operations."
      ],
      "metadata": {
        "id": "yRTSurhZfH5v"
      }
    },
    {
      "cell_type": "markdown",
      "source": [
        "Q9. Can lists contain different data types in Python?\n",
        "\n",
        "  - Yes, lists in Python 3 can contain different data types, allowing elements such as integers, strings, floats, and even other lists or objects to coexist within the same list."
      ],
      "metadata": {
        "id": "AiwdlqilfSKo"
      }
    },
    {
      "cell_type": "markdown",
      "source": [
        "Q10. Explain why strings are immutable in Python?\n",
        "\n",
        "  - Strings are immutable in Python because they are stored as fixed sequences of characters in memory, and modifying a string would require creating a new object rather than altering the existing one. This design enhances performance, security, and memory efficiency, especially when handling large-scale text operations."
      ],
      "metadata": {
        "id": "6EQK0nchfb8L"
      }
    },
    {
      "cell_type": "markdown",
      "source": [
        "Q11. What advantages do dictionaries offer over lists for certain tasks?\n",
        "\n",
        "  - Dictionaries offer advantages over lists for certain tasks by providing **fast key-based lookups (O(1) time complexity)**, ensuring **efficient data retrieval**, storing **key-value pairs** for structured data, and enabling **quick updates and deletions**, whereas lists require **O(n) time complexity** for searches and lack direct key-based access."
      ],
      "metadata": {
        "id": "7b8FjT7kfqa3"
      }
    },
    {
      "cell_type": "markdown",
      "source": [
        "Q12. Describe a scenario where using a tuple would be preferable over a list.\n",
        "\n",
        "  - A tuple would be preferable over a list when storing **fixed, unchangeable data** such as **coordinates (x, y, z)**, **database records**, or **configuration settings**, ensuring **data integrity** and **faster performance** due to its **immutability** and **lower memory overhead**."
      ],
      "metadata": {
        "id": "C4OZKaSpf1b9"
      }
    },
    {
      "cell_type": "markdown",
      "source": [
        "Q13. How do sets handle duplicate values in Python?\n",
        "\n",
        "  - Sets in Python 3 automatically **eliminate duplicate values** by storing only **unique elements** using a **hash table**, ensuring that any repeated value added to the set is ignored."
      ],
      "metadata": {
        "id": "V0aNS_1ygAp8"
      }
    },
    {
      "cell_type": "markdown",
      "source": [
        "Q14.  How does the “in” keyword work differently for lists and dictionaries?\n",
        "\n",
        "  - In Python 3, the **`in`** keyword checks for membership but works differently for **lists** and **dictionaries**:  \n",
        "\n",
        "- **For lists**, it performs a **linear search (O(n) time complexity)**, checking each element sequentially.  \n",
        "- **For dictionaries**, it checks for the **presence of a key, not values**, using a **hash table lookup (O(1) average time complexity)** for fast access."
      ],
      "metadata": {
        "id": "mj4EGt1wgK2t"
      }
    },
    {
      "cell_type": "markdown",
      "source": [
        "Q15. Can you modify the elements of a tuple? Explain why or why not?\n",
        "\n",
        "  - No, you **cannot** modify the elements of a **tuple** because tuples are **immutable** in Python. Once created, their elements cannot be changed, added, or removed, ensuring **data integrity** and **optimization** in terms of memory and performance."
      ],
      "metadata": {
        "id": "SMdDo_-sgYIL"
      }
    },
    {
      "cell_type": "markdown",
      "source": [
        "Q16. What is a nested dictionary, and give an example of its use case?\n",
        "\n",
        "  - A nested dictionary is a dictionary that contains another dictionary as a value, allowing hierarchical data storage."
      ],
      "metadata": {
        "id": "vJuGFh6xgjcj"
      }
    },
    {
      "cell_type": "code",
      "source": [
        "# Example Use Case\n",
        "\n",
        "students = {\n",
        "    \"101\": {\"name\": \"Alice\", \"age\": 20, \"grades\": {\"math\": 90, \"science\": 85}},\n",
        "    \"102\": {\"name\": \"Bob\", \"age\": 22, \"grades\": {\"math\": 88, \"science\": 92}}\n",
        "}\n"
      ],
      "metadata": {
        "id": "VuZB1ENwguss"
      },
      "execution_count": 3,
      "outputs": []
    },
    {
      "cell_type": "markdown",
      "source": [
        "Q17. Describe the time complexity of accessing elements in a dictionary.\n",
        "\n",
        "  - Accessing elements in a dictionary in Python has an **average time complexity of O(1)** because dictionaries use a **hash table** for key-based lookups. However, in the **worst case**, due to **hash collisions**, the time complexity can be **O(n)** when multiple keys hash to the same index, requiring a linear search."
      ],
      "metadata": {
        "id": "IEuhO3Mpg8Fy"
      }
    },
    {
      "cell_type": "markdown",
      "source": [
        "Q18. In what situations are lists preferred over dictionaries?\n",
        "\n",
        "  - Lists are preferred over dictionaries when:  \n",
        "\n",
        "1. **Order Matters** – Lists maintain the order of elements, whereas dictionaries (before Python 3.7) do not.  \n",
        "2. **Sequential Data** – When storing a collection of values without key-value relationships.  \n",
        "3. **Iterative Processing** – Lists are better for sequential access and indexed iterations.  \n",
        "4. **Memory Efficiency** – Lists use less memory compared to dictionaries, which store extra metadata for keys.  \n",
        "5. **Duplicate Values** – Unlike dictionaries, lists allow duplicate elements."
      ],
      "metadata": {
        "id": "DayfXoVShE05"
      }
    },
    {
      "cell_type": "markdown",
      "source": [
        "Q19. Why are dictionaries considered unordered, and how does that affect data retrieval?\n",
        "\n",
        "  - Dictionaries were considered **unordered** before Python **3.7** because they used a **hash table**, which did not guarantee key order. However, from **Python 3.7+**, dictionaries **preserve insertion order** while still using hashing for fast lookups.  \n",
        "\n",
        "This affects data retrieval because:  \n",
        "1. **Before Python 3.7**, iterating over a dictionary could return keys in an unpredictable order.  \n",
        "2. **From Python 3.7 onwards**, items are retrieved in the order they were inserted, making iteration more predictable while still maintaining **O(1) lookup time**."
      ],
      "metadata": {
        "id": "lZ6LjzF4hTRF"
      }
    },
    {
      "cell_type": "markdown",
      "source": [
        "Q20. Explain the difference between a list and a dictionary in terms of data retrieval.\n",
        "\n",
        "  - The key difference between **lists** and **dictionaries** in terms of data retrieval is:  \n",
        "\n",
        "- **Lists** use **index-based retrieval**, requiring **O(1) time complexity** for direct access (`list[index]`), but searching for a specific value takes **O(n) time** in the worst case.  \n",
        "- **Dictionaries** use **key-based retrieval**, leveraging a **hash table** to provide **O(1) average time complexity** for lookups (`dict[key]`), making them much faster for retrieving specific elements compared to lists."
      ],
      "metadata": {
        "id": "o3LZWo2JhjUt"
      }
    },
    {
      "cell_type": "markdown",
      "source": [
        "# Practical Questions"
      ],
      "metadata": {
        "id": "mh00l6ZMhq0E"
      }
    },
    {
      "cell_type": "code",
      "source": [
        "# Write a code to create a string with your name and print it.\n",
        "\n",
        "name = \"Kamran Sohail\"\n",
        "print(name)\n"
      ],
      "metadata": {
        "colab": {
          "base_uri": "https://localhost:8080/"
        },
        "id": "ukT0_YmRhvsq",
        "outputId": "ce6d7fb5-6cf6-492c-935b-e17618733840"
      },
      "execution_count": 4,
      "outputs": [
        {
          "output_type": "stream",
          "name": "stdout",
          "text": [
            "Kamran Sohail\n"
          ]
        }
      ]
    },
    {
      "cell_type": "code",
      "source": [
        "# Write a code to find the length of the string \"Hello World\".\n",
        "\n",
        "string = \"Hello World\"\n",
        "len(string)"
      ],
      "metadata": {
        "colab": {
          "base_uri": "https://localhost:8080/"
        },
        "id": "OXedNVRHh46h",
        "outputId": "7aee55cd-0df2-4645-ab45-3247cfb14830"
      },
      "execution_count": 5,
      "outputs": [
        {
          "output_type": "execute_result",
          "data": {
            "text/plain": [
              "11"
            ]
          },
          "metadata": {},
          "execution_count": 5
        }
      ]
    },
    {
      "cell_type": "code",
      "source": [
        "# Write a code to slice the first 3 characters from the string \"Python Programming\".\n",
        "\n",
        "text = \"Python Programming\"\n",
        "sliced_text = text[:3]  # Slices the first 3 characters\n",
        "print(sliced_text)\n",
        "\n"
      ],
      "metadata": {
        "colab": {
          "base_uri": "https://localhost:8080/"
        },
        "id": "SdVUjUlOiIex",
        "outputId": "a23b98bf-9f46-4160-9cbb-bf091538b57b"
      },
      "execution_count": 7,
      "outputs": [
        {
          "output_type": "stream",
          "name": "stdout",
          "text": [
            "Pyt\n"
          ]
        }
      ]
    },
    {
      "cell_type": "code",
      "source": [
        "# Write a code to convert the string \"hello\" to uppercase.\n",
        "\n",
        "text = \"hello\"\n",
        "text.upper()"
      ],
      "metadata": {
        "colab": {
          "base_uri": "https://localhost:8080/",
          "height": 36
        },
        "id": "n_cPlnFiie6w",
        "outputId": "ea5d6fc7-f516-46e4-e23f-68b059f96da4"
      },
      "execution_count": 9,
      "outputs": [
        {
          "output_type": "execute_result",
          "data": {
            "text/plain": [
              "'HELLO'"
            ],
            "application/vnd.google.colaboratory.intrinsic+json": {
              "type": "string"
            }
          },
          "metadata": {},
          "execution_count": 9
        }
      ]
    },
    {
      "cell_type": "code",
      "source": [
        "# Write a code to replace the word \"apple\" with \"orange\" in the string \"I like apple\".\n",
        "\n",
        "text = \"I like apple\"\n",
        "modified_text = text.replace(\"apple\", \"orange\")\n",
        "print(modified_text)\n"
      ],
      "metadata": {
        "colab": {
          "base_uri": "https://localhost:8080/"
        },
        "id": "kSPR8Vomis1p",
        "outputId": "ad5ac831-baad-4336-a0a1-9fe3ca82f41e"
      },
      "execution_count": 10,
      "outputs": [
        {
          "output_type": "stream",
          "name": "stdout",
          "text": [
            "I like orange\n"
          ]
        }
      ]
    },
    {
      "cell_type": "code",
      "source": [
        "# Write a code to create a list with numbers 1 to 5 and print it.\n",
        "\n",
        "numbers = [1, 2, 3, 4, 5]\n",
        "print(numbers)\n"
      ],
      "metadata": {
        "colab": {
          "base_uri": "https://localhost:8080/"
        },
        "id": "6ff0IaKUjBPm",
        "outputId": "b92b82fe-6423-4ca4-e731-3881644836e2"
      },
      "execution_count": 11,
      "outputs": [
        {
          "output_type": "stream",
          "name": "stdout",
          "text": [
            "[1, 2, 3, 4, 5]\n"
          ]
        }
      ]
    },
    {
      "cell_type": "code",
      "source": [
        "#  Write a code to append the number 10 to the list [1, 2, 3, 4].\n",
        "\n",
        "numbers = [1, 2, 3, 4]\n",
        "numbers.append(10)\n",
        "print(numbers)\n"
      ],
      "metadata": {
        "colab": {
          "base_uri": "https://localhost:8080/"
        },
        "id": "4-BDncLnjKd7",
        "outputId": "d5bf2dcd-5280-44f7-aacf-3fece78d8313"
      },
      "execution_count": 12,
      "outputs": [
        {
          "output_type": "stream",
          "name": "stdout",
          "text": [
            "[1, 2, 3, 4, 10]\n"
          ]
        }
      ]
    },
    {
      "cell_type": "code",
      "source": [
        "# Write a code to remove the number 3 from the list [1, 2, 3, 4, 5].\n",
        "\n",
        "numbers = [1, 2, 3, 4, 5]\n",
        "numbers.remove(3)\n",
        "print(numbers)\n"
      ],
      "metadata": {
        "colab": {
          "base_uri": "https://localhost:8080/"
        },
        "id": "frZW_NGbjURK",
        "outputId": "469c8d72-40d5-4321-a4f8-bc932f7ca1f1"
      },
      "execution_count": 13,
      "outputs": [
        {
          "output_type": "stream",
          "name": "stdout",
          "text": [
            "[1, 2, 4, 5]\n"
          ]
        }
      ]
    },
    {
      "cell_type": "code",
      "source": [
        "# Write a code to access the second element in the list ['a', 'b', 'c', 'd'].\n",
        "\n",
        "letters = ['a', 'b', 'c', 'd']\n",
        "second_element = letters[1]\n",
        "print(second_element)\n"
      ],
      "metadata": {
        "colab": {
          "base_uri": "https://localhost:8080/"
        },
        "id": "TbMlnvxhjflx",
        "outputId": "aa304aab-896b-4638-939a-370a12a04b1f"
      },
      "execution_count": 14,
      "outputs": [
        {
          "output_type": "stream",
          "name": "stdout",
          "text": [
            "b\n"
          ]
        }
      ]
    },
    {
      "cell_type": "code",
      "source": [
        "# Write a code to reverse the list [10, 20, 30, 40, 50].\n",
        "\n",
        "numbers = [10, 20, 30, 40, 50]\n",
        "numbers.reverse()\n",
        "print(numbers)\n"
      ],
      "metadata": {
        "colab": {
          "base_uri": "https://localhost:8080/"
        },
        "id": "1Nzq6oPqjqxK",
        "outputId": "34d0fff7-3542-4755-c6ee-e8703bcfde63"
      },
      "execution_count": 15,
      "outputs": [
        {
          "output_type": "stream",
          "name": "stdout",
          "text": [
            "[50, 40, 30, 20, 10]\n"
          ]
        }
      ]
    },
    {
      "cell_type": "code",
      "source": [
        "# Write a code to create a tuple with the elements 100, 200, 300 and print it.\n",
        "\n",
        "numbers = (100, 200, 300)\n",
        "print(numbers)\n"
      ],
      "metadata": {
        "colab": {
          "base_uri": "https://localhost:8080/"
        },
        "id": "6arLviSYjznC",
        "outputId": "329d9a51-d20d-4c46-ba13-f378b08463bf"
      },
      "execution_count": 16,
      "outputs": [
        {
          "output_type": "stream",
          "name": "stdout",
          "text": [
            "(100, 200, 300)\n"
          ]
        }
      ]
    },
    {
      "cell_type": "code",
      "source": [
        "#  Write a code to access the second-to-last element of the tuple ('red', 'green', 'blue', 'yellow').\n",
        "\n",
        "colors = ('red', 'green', 'blue', 'yellow')\n",
        "second_to_last = colors[-2]\n",
        "print(second_to_last)\n"
      ],
      "metadata": {
        "colab": {
          "base_uri": "https://localhost:8080/"
        },
        "id": "aPpP79USj7tm",
        "outputId": "166f499f-08b3-4e39-817f-c7815158cb0c"
      },
      "execution_count": 17,
      "outputs": [
        {
          "output_type": "stream",
          "name": "stdout",
          "text": [
            "blue\n"
          ]
        }
      ]
    },
    {
      "cell_type": "code",
      "source": [
        "#  Write a code to find the minimum number in the tuple (10, 20, 5, 15).\n",
        "\n",
        "numbers = (10, 20, 5, 15)\n",
        "min_number = min(numbers)\n",
        "print(min_number)\n"
      ],
      "metadata": {
        "colab": {
          "base_uri": "https://localhost:8080/"
        },
        "id": "7NRsd78ekLus",
        "outputId": "818f0482-b657-4982-c9ce-9e15a3e80067"
      },
      "execution_count": 18,
      "outputs": [
        {
          "output_type": "stream",
          "name": "stdout",
          "text": [
            "5\n"
          ]
        }
      ]
    },
    {
      "cell_type": "code",
      "source": [
        "# Write a code to find the index of the element \"cat\" in the tuple ('dog', 'cat', 'rabbit').\n",
        "\n",
        "animals = ('dog', 'cat', 'rabbit')\n",
        "index_of_cat = animals.index('cat')\n",
        "print(index_of_cat)"
      ],
      "metadata": {
        "colab": {
          "base_uri": "https://localhost:8080/"
        },
        "id": "7DR5z_T2kSLd",
        "outputId": "34a91ce8-40b1-4ac1-dbd5-9e95fe34138a"
      },
      "execution_count": 19,
      "outputs": [
        {
          "output_type": "stream",
          "name": "stdout",
          "text": [
            "1\n"
          ]
        }
      ]
    },
    {
      "cell_type": "code",
      "source": [
        "# Write a code to create a tuple containing three different fruits and check if \"kiwi\" is in it.\n",
        "\n",
        "fruits = (\"apple\", \"banana\", \"orange\")\n",
        "is_kiwi_present = \"kiwi\" in fruits\n",
        "print(is_kiwi_present)\n"
      ],
      "metadata": {
        "colab": {
          "base_uri": "https://localhost:8080/"
        },
        "id": "JV8x9Bzwkde9",
        "outputId": "83425249-de1d-4ba5-c71e-50ebe5bb580d"
      },
      "execution_count": 20,
      "outputs": [
        {
          "output_type": "stream",
          "name": "stdout",
          "text": [
            "False\n"
          ]
        }
      ]
    },
    {
      "cell_type": "code",
      "source": [
        "# Write a code to create a set with the elements 'a', 'b', 'c' and print it\n",
        "\n",
        "my_set = {'a', 'b', 'c'}\n",
        "print(my_set)\n"
      ],
      "metadata": {
        "colab": {
          "base_uri": "https://localhost:8080/"
        },
        "id": "ZjYqP6PsklBB",
        "outputId": "8cfca9d8-df7a-45f0-ffab-7b87aa33004e"
      },
      "execution_count": 21,
      "outputs": [
        {
          "output_type": "stream",
          "name": "stdout",
          "text": [
            "{'b', 'a', 'c'}\n"
          ]
        }
      ]
    },
    {
      "cell_type": "code",
      "source": [
        "# Write a code to clear all elements from the set {1, 2, 3, 4, 5}.\n",
        "\n",
        "my_set = {1, 2, 3, 4, 5}\n",
        "my_set.clear()\n",
        "print(my_set)\n"
      ],
      "metadata": {
        "colab": {
          "base_uri": "https://localhost:8080/"
        },
        "id": "b3iqE0mHkq7q",
        "outputId": "c19be98b-ae7d-440f-c7cd-5019bfddd857"
      },
      "execution_count": 22,
      "outputs": [
        {
          "output_type": "stream",
          "name": "stdout",
          "text": [
            "set()\n"
          ]
        }
      ]
    },
    {
      "cell_type": "code",
      "source": [
        "# Write a code to remove the element 4 from the set {1, 2, 3, 4}.\n",
        "\n",
        "my_set = {1, 2, 3, 4}\n",
        "my_set.remove(4)\n",
        "print(my_set)\n"
      ],
      "metadata": {
        "colab": {
          "base_uri": "https://localhost:8080/"
        },
        "id": "LbHx3BVtkyRr",
        "outputId": "4155e9a4-a2ed-4e48-fe40-57848e1da604"
      },
      "execution_count": 23,
      "outputs": [
        {
          "output_type": "stream",
          "name": "stdout",
          "text": [
            "{1, 2, 3}\n"
          ]
        }
      ]
    },
    {
      "cell_type": "code",
      "source": [
        "#   Write a code to find the union of two sets {1, 2, 3} and {3, 4, 5}.\n",
        "\n",
        "set1 = {1, 2, 3}\n",
        "set2 = {3, 4, 5}\n",
        "union_set = set1.union(set2)\n",
        "print(union_set)\n"
      ],
      "metadata": {
        "colab": {
          "base_uri": "https://localhost:8080/"
        },
        "id": "hXGwdBHnk5f-",
        "outputId": "e18f21ca-534a-4c67-b409-e25250cb9e21"
      },
      "execution_count": 24,
      "outputs": [
        {
          "output_type": "stream",
          "name": "stdout",
          "text": [
            "{1, 2, 3, 4, 5}\n"
          ]
        }
      ]
    },
    {
      "cell_type": "code",
      "source": [
        "# Write a code to find the intersection of two sets {1, 2, 3} and {2, 3, 4}.\n",
        "\n",
        "set1 = {1, 2, 3}\n",
        "set2 = {2, 3, 4}\n",
        "intersection_set = set1.intersection(set2)\n",
        "print(intersection_set)\n"
      ],
      "metadata": {
        "colab": {
          "base_uri": "https://localhost:8080/"
        },
        "id": "tDPpM7UClBB6",
        "outputId": "20708212-b21a-4dee-b391-08232c2c2f7c"
      },
      "execution_count": 25,
      "outputs": [
        {
          "output_type": "stream",
          "name": "stdout",
          "text": [
            "{2, 3}\n"
          ]
        }
      ]
    },
    {
      "cell_type": "code",
      "source": [
        "# Write a code to create a dictionary with the keys \"name\", \"age\", and \"city\", and print it.\n",
        "\n",
        "person = {\"name\": \"John\", \"age\": 25, \"city\": \"New York\"}\n",
        "print(person)\n"
      ],
      "metadata": {
        "colab": {
          "base_uri": "https://localhost:8080/"
        },
        "id": "ZOWzcMU1lKX7",
        "outputId": "b9cad760-0387-4927-c463-cbbdede5d86d"
      },
      "execution_count": 26,
      "outputs": [
        {
          "output_type": "stream",
          "name": "stdout",
          "text": [
            "{'name': 'John', 'age': 25, 'city': 'New York'}\n"
          ]
        }
      ]
    },
    {
      "cell_type": "code",
      "source": [
        "# Write a code to add a new key-value pair \"country\": \"USA\" to the dictionary {'name': 'John', 'age': 25}.\n",
        "\n",
        "person = {'name': 'John', 'age': 25}\n",
        "person['country'] = 'USA'\n",
        "print(person)\n"
      ],
      "metadata": {
        "colab": {
          "base_uri": "https://localhost:8080/"
        },
        "id": "OFbyHPK_lQ41",
        "outputId": "2de85e65-fc3f-4b3c-f162-bfaeb834b314"
      },
      "execution_count": 27,
      "outputs": [
        {
          "output_type": "stream",
          "name": "stdout",
          "text": [
            "{'name': 'John', 'age': 25, 'country': 'USA'}\n"
          ]
        }
      ]
    },
    {
      "cell_type": "code",
      "source": [
        "# Write a code to access the value associated with the key \"name\" in the dictionary {'name': 'Alice', 'age': 30}.\n",
        "\n",
        "person = {'name': 'Alice', 'age': 30}\n",
        "name_value = person['name']\n",
        "print(name_value)\n"
      ],
      "metadata": {
        "colab": {
          "base_uri": "https://localhost:8080/"
        },
        "id": "JycBwKPRlcEr",
        "outputId": "f90ffad0-5f5a-41f8-e25c-e457868886b1"
      },
      "execution_count": 28,
      "outputs": [
        {
          "output_type": "stream",
          "name": "stdout",
          "text": [
            "Alice\n"
          ]
        }
      ]
    },
    {
      "cell_type": "code",
      "source": [
        "# Write a code to remove the key \"age\" from the dictionary {'name': 'Bob', 'age': 22, 'city': 'New York'}.\n",
        "\n",
        "person = {'name': 'Bob', 'age': 22, 'city': 'New York'}\n",
        "person.pop('age')\n",
        "print(person)\n"
      ],
      "metadata": {
        "colab": {
          "base_uri": "https://localhost:8080/"
        },
        "id": "u4vbDikglmeQ",
        "outputId": "07c137fa-1264-43ac-b8d0-b917065a0329"
      },
      "execution_count": 29,
      "outputs": [
        {
          "output_type": "stream",
          "name": "stdout",
          "text": [
            "{'name': 'Bob', 'city': 'New York'}\n"
          ]
        }
      ]
    },
    {
      "cell_type": "code",
      "source": [
        "#  Write a code to check if the key \"city\" exists in the dictionary {'name': 'Alice', 'city': 'Paris'}.\n",
        "\n",
        "person = {'name': 'Alice', 'city': 'Paris'}\n",
        "key_exists = 'city' in person\n",
        "print(key_exists)\n"
      ],
      "metadata": {
        "colab": {
          "base_uri": "https://localhost:8080/"
        },
        "id": "QyGokNg3lwks",
        "outputId": "6f4ed711-ad92-4043-d241-50b921fc650d"
      },
      "execution_count": 31,
      "outputs": [
        {
          "output_type": "stream",
          "name": "stdout",
          "text": [
            "True\n"
          ]
        }
      ]
    },
    {
      "cell_type": "code",
      "source": [
        "#  Write a code to create a list, a tuple, and a dictionary, and print them all.\n",
        "\n",
        "# Creating a list, tuple, and dictionary\n",
        "my_list = [1, 2, 3, 4, 5]\n",
        "my_tuple = (10, 20, 30)\n",
        "my_dict = {'name': 'Alice', 'age': 25, 'city': 'New York'}\n",
        "\n",
        "# Printing all data structures\n",
        "print(\"List:\", my_list)\n",
        "print(\"Tuple:\", my_tuple)\n",
        "print(\"Dictionary:\", my_dict)\n"
      ],
      "metadata": {
        "colab": {
          "base_uri": "https://localhost:8080/"
        },
        "id": "Fg22o8EMl3B4",
        "outputId": "f715b29f-6558-4ed4-e209-41031f32abab"
      },
      "execution_count": 32,
      "outputs": [
        {
          "output_type": "stream",
          "name": "stdout",
          "text": [
            "List: [1, 2, 3, 4, 5]\n",
            "Tuple: (10, 20, 30)\n",
            "Dictionary: {'name': 'Alice', 'age': 25, 'city': 'New York'}\n"
          ]
        }
      ]
    },
    {
      "cell_type": "code",
      "source": [
        "# . Write a code to create a list of 5 random numbers between 1 and 100, sort it in ascending order, and print the result.(replaced)\n",
        "\n",
        "import random\n",
        "\n",
        "# Creating a list of 5 random numbers between 1 and 100\n",
        "random_numbers = random.sample(range(1, 101), 5)\n",
        "\n",
        "# Sorting the list in ascending order\n",
        "random_numbers.sort()\n",
        "\n",
        "# Printing the sorted list\n",
        "print(random_numbers)\n"
      ],
      "metadata": {
        "colab": {
          "base_uri": "https://localhost:8080/"
        },
        "id": "HO5n9YL5mDX0",
        "outputId": "59a53477-f587-4a65-d793-b5b7e51254b2"
      },
      "execution_count": 33,
      "outputs": [
        {
          "output_type": "stream",
          "name": "stdout",
          "text": [
            "[26, 38, 55, 84, 91]\n"
          ]
        }
      ]
    },
    {
      "cell_type": "code",
      "source": [
        "#  Write a code to create a list with strings and print the element at the third index.\n",
        "\n",
        "\n",
        "words = [\"apple\", \"banana\", \"cherry\", \"date\", \"elderberry\"]\n",
        "print(words[3])\n"
      ],
      "metadata": {
        "colab": {
          "base_uri": "https://localhost:8080/"
        },
        "id": "TmyVAqh2mQvf",
        "outputId": "fe0d3d4b-a6f0-4ee1-f124-ba10f1d2cd9f"
      },
      "execution_count": 34,
      "outputs": [
        {
          "output_type": "stream",
          "name": "stdout",
          "text": [
            "date\n"
          ]
        }
      ]
    },
    {
      "cell_type": "code",
      "source": [
        "#  Write a code to combine two dictionaries into one and print the result.\n",
        "\n",
        "# Creating two dictionaries\n",
        "dict1 = {\"name\": \"Alice\", \"age\": 25}\n",
        "dict2 = {\"city\": \"New York\", \"country\": \"USA\"}\n",
        "\n",
        "# Combining the dictionaries\n",
        "combined_dict = {**dict1, **dict2}\n",
        "\n",
        "# Printing the result\n",
        "print(combined_dict)\n"
      ],
      "metadata": {
        "colab": {
          "base_uri": "https://localhost:8080/"
        },
        "id": "MDDrYtjYmbyr",
        "outputId": "983fd3d0-5793-47cd-ac34-acc908b4fe43"
      },
      "execution_count": 35,
      "outputs": [
        {
          "output_type": "stream",
          "name": "stdout",
          "text": [
            "{'name': 'Alice', 'age': 25, 'city': 'New York', 'country': 'USA'}\n"
          ]
        }
      ]
    },
    {
      "cell_type": "code",
      "source": [
        "# Write a code to convert a list of strings into a set.\n",
        "\n",
        "# Creating a list of strings\n",
        "fruits = [\"apple\", \"banana\", \"cherry\", \"apple\", \"banana\"]\n",
        "\n",
        "# Converting the list into a set\n",
        "fruits_set = set(fruits)\n",
        "\n",
        "# Printing the set\n",
        "print(fruits_set)\n"
      ],
      "metadata": {
        "colab": {
          "base_uri": "https://localhost:8080/"
        },
        "id": "kuxPB8eEmkR8",
        "outputId": "d9fb13fc-70c4-4611-f323-8dda293f1a00"
      },
      "execution_count": 36,
      "outputs": [
        {
          "output_type": "stream",
          "name": "stdout",
          "text": [
            "{'apple', 'banana', 'cherry'}\n"
          ]
        }
      ]
    },
    {
      "cell_type": "code",
      "source": [],
      "metadata": {
        "id": "4UIYzHntmr2y"
      },
      "execution_count": null,
      "outputs": []
    }
  ]
}